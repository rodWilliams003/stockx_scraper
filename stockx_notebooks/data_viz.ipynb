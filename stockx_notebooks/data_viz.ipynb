{
 "cells": [
  {
   "cell_type": "code",
   "execution_count": 2,
   "metadata": {
    "collapsed": true
   },
   "outputs": [],
   "source": [
    "%matplotlib inline \n",
    "\n",
    "import pandas as pd\n",
    "import matplotlib.pyplot as plt\n",
    "\n",
    "import json\n",
    "import numpy as np\n",
    "from datetime import datetime\n",
    "from pytz import timezone"
   ]
  },
  {
   "cell_type": "code",
   "execution_count": 34,
   "metadata": {
    "collapsed": false
   },
   "outputs": [],
   "source": [
    "shoes_dir = './data/cloud_05-24-2017'\n",
    "\n",
    "eastern = timezone('US/Eastern')\n",
    "central = timezone('US/Central')\n",
    "\n",
    "def convert2dt_sales(date, time) :\n",
    "    if date and time :\n",
    "        return eastern.localize(datetime.strptime(date + ' ' + time[:-4], \"%A, %B %d, %Y %I:%M %p\"))\n",
    "    return None \n",
    "\n",
    "def convert2dt_timestamp(dt_str) :\n",
    "    return central.localize(datetime.strptime(dt_str, \"%Y-%m-%d %H:%M:%S.%f\"))\n",
    "\n",
    "tkr2shoe = {\n",
    "    'YZY-1': 'adidas-yeezy-boost-350-v2-cream-white',\n",
    "    'UB-1': 'adidas-ultra-boost-parley-night-navy',\n",
    "    'NMD-1': 'adidas-nmd-core-black-lush-red',\n",
    "    'NMDR1-1': 'adidas-nmd-r1-crisp-white',\n",
    "    'NMDR1-2': 'adidas-nmd-r1-triple-black-reflective',\n",
    "    'PHRL-1': 'adidas-tennis-hu-pharrell-white-green',\n",
    "    'PHRL-2': 'adidas-tennis-hu-pharrell-white-yellow',\n",
    "    'YZY-2': 'adidas-yeezy-boost-350-v2-steeple-grey-beluga-solar-red',\n",
    "    'JRN1': 'air-jordan-1-retro-black-blue-2017',\n",
    "    'JRN11': 'air-jordan-11-retro-low-university-blue',\n",
    "    'JRN3': 'air-jordan-3-retro-true-blue-2016',\n",
    "    'JRN4': 'air-jordan-4-retro-pure-money-2017',\n",
    "    'JRN4-2': 'air-jordan-4-retro-royalty',\n",
    "    'AMAX-1': 'nike-air-max-97-silver-bullet-2016',\n",
    "    'AMAX-2': 'nike-air-more-uptempo-supreme-gold'}\n",
    "\n",
    "cache_dfs = {}\n",
    "\n",
    "def get_pricing(tkr, fields=None, sizes=None) :\n",
    "    if tkr not in cache_dfs :\n",
    "        shoe_name = tkr2shoe[tkr]\n",
    "        with open('{}/{}.json'.format(shoes_dir, shoe_name)) as f :\n",
    "            shoe_data = json.load(f)\n",
    "\n",
    "        flat_sales = {'price': [], 'size': [], 'timestamp': []}\n",
    "        for bar in shoe_data['history'] :\n",
    "            for sale in bar['sales'] :\n",
    "                flat_sales['price'].append(int(sale['price'][1:]))\n",
    "                flat_sales['size'].append(float(sale['size']))\n",
    "                flat_sales['timestamp'].append(convert2dt_sales(sale['date'], sale['time']))\n",
    "\n",
    "        sales_df = pd.DataFrame(flat_sales)\n",
    "        cache_dfs[tkr] = sales_df\n",
    "    \n",
    "    sales_df = cache_dfs[tkr].set_index('timestamp')\n",
    "    \n",
    "    if sizes :\n",
    "        sales_df = sales_df[sales_df['size'].isin(sizes)]\n",
    "    if fields :\n",
    "        sales_df = sales_df[fields]\n",
    "    \n",
    "    return sales_df \n",
    "\n",
    "def get_bidask(tkr) :\n",
    "    shoe_name = tkr2shoe[tkr]\n",
    "    with open('{}/{}.json'.format(shoes_dir, shoe_name)) as f :\n",
    "        shoe_data = json.load(f)\n",
    "        \n",
    "    flat_bids = {'price': [], 'size': [], 'timestamp': [], 'avail': []}\n",
    "    flat_asks = {'price': [], 'size': [], 'timestamp': [], 'avail': []}\n",
    "    for bar in shoe_data['history'] :\n",
    "        timestamp = convert2dt_timestamp(bar['timestamp'])\n",
    "\n",
    "        bar_bids = {'price': [], 'size': [], 'avail': []}\n",
    "        for bid in bar['bids'] :\n",
    "            flat_bids['price'].append(bid['price'])\n",
    "            flat_bids['size'].append(bid['size'])\n",
    "            flat_bids['avail'].append(bid['avail'])\n",
    "            flat_bids['timestamp'].append(timestamp)\n",
    "\n",
    "        for ask in bar['asks'] :\n",
    "            flat_asks['price'].append(ask['price'])\n",
    "            flat_asks['size'].append(ask['size'])\n",
    "            flat_asks['avail'].append(ask['avail'])\n",
    "            flat_asks['timestamp'].append(timestamp)\n",
    "            \n",
    "    bids_pd = pd.DataFrame(flat_bids)\n",
    "    asks_pd = pd.DataFrame(flat_asks)"
   ]
  },
  {
   "cell_type": "code",
   "execution_count": 116,
   "metadata": {
    "collapsed": false
   },
   "outputs": [],
   "source": [
    "def reject_outliers(data, args, m=2):\n",
    "    idx = abs(data - np.mean(data)) < m * np.std(data)\n",
    "\n",
    "    if len(args) > 0 :\n",
    "        mod_args = []\n",
    "        for arg in args :\n",
    "            mod_args.append(arg[idx])\n",
    "        return [data[idx]] + mod_args\n",
    "    return data[idx]\n",
    "\n",
    "sales_history_cut, datetime_index_cut = reject_outliers(np.array(sales_history), [np.array(datetime_index)])\n",
    "sales_history = pd.Series(sales_history_cut, index=datetime_index_cut)"
   ]
  },
  {
   "cell_type": "code",
   "execution_count": 44,
   "metadata": {
    "collapsed": false
   },
   "outputs": [],
   "source": [
    "sales_pd = get_pricing('YZY-1', fields=['price'], sizes=[9, 9.5, 10, 10.5, 11])"
   ]
  },
  {
   "cell_type": "code",
   "execution_count": 45,
   "metadata": {
    "collapsed": false
   },
   "outputs": [
    {
     "data": {
      "text/plain": [
       "<matplotlib.axes.AxesSubplot at 0x10f0d3810>"
      ]
     },
     "execution_count": 45,
     "metadata": {},
     "output_type": "execute_result"
    },
    {
     "data": {
      "image/png": "[encoded data removed]",
      "text/plain": [
       "<matplotlib.figure.Figure at 0x10df6e950>"
      ]
     },
     "metadata": {},
     "output_type": "display_data"
    }
   ],
   "source": [
    "sales_pd.plot()"
   ]
  },
  {
   "cell_type": "code",
   "execution_count": null,
   "metadata": {
    "collapsed": true
   },
   "outputs": [],
   "source": []
  }
 ],
 "metadata": {
  "kernelspec": {
   "display_name": "Python [kaggle]",
   "language": "python",
   "name": "Python [kaggle]"
  },
  "language_info": {
   "codemirror_mode": {
    "name": "ipython",
    "version": 2
   },
   "file_extension": ".py",
   "mimetype": "text/x-python",
   "name": "python",
   "nbconvert_exporter": "python",
   "pygments_lexer": "ipython2",
   "version": "2.7.12"
  }
 },
 "nbformat": 4,
 "nbformat_minor": 0
}

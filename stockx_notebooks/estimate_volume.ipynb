{
 "cells": [
  {
   "cell_type": "code",
   "execution_count": 1,
   "metadata": {
    "collapsed": true
   },
   "outputs": [],
   "source": [
    "from datetime import datetime"
   ]
  },
  {
   "cell_type": "code",
   "execution_count": 12,
   "metadata": {
    "collapsed": true
   },
   "outputs": [],
   "source": [
    "%run 'utils.ipynb'\n",
    "init_datadir('/Users/shaayaansayed/Documents/Projects/stockx_scraper/shoes_data/')"
   ]
  },
  {
   "cell_type": "code",
   "execution_count": 65,
   "metadata": {
    "collapsed": false
   },
   "outputs": [],
   "source": [
    "path = '/Users/shaayaansayed/Documents/Projects/stockx_scraper/shoes_data/adidas-yeezy-boost-350-v2-cream-white'\n",
    "with open('{}.json'.format(path)) as f :\n",
    "    shoe_data = json.load(f)"
   ]
  },
  {
   "cell_type": "code",
   "execution_count": 66,
   "metadata": {
    "collapsed": false
   },
   "outputs": [],
   "source": [
    "eastern = timezone('US/Eastern')\n",
    "central = timezone('US/Central')\n",
    "\n",
    "def convert2dt_sales(dt_str) :\n",
    "    return eastern.localize(datetime.strptime(dt_str[:-6], \"%Y-%m-%d %H:%M:%S\"))\n",
    "\n",
    "def convert2dt_timestamp(dt_str) :\n",
    "#     return pytz.utc.localize(datetime.strptime(dt_str, \"%Y-%m-%d %H:%M:%S.%f\"))\n",
    "    return eastern.localize(datetime.strptime(dt_str[:-6], \"%Y-%m-%d %H:%M:%S.%f\"))\n",
    "\n",
    "sales_flatten = {'size': [], 'price': [], 'timestamp': [], 'sale_timestamp': []}\n",
    "for sale in shoe_data['sales'] :\n",
    "    sales_flatten['size'].append(float(sale['size']))\n",
    "    sales_flatten['price'].append(int(sale['price'][1:]))\n",
    "    sales_flatten['timestamp'].append(convert2dt_timestamp(sale['timestamp']))\n",
    "    sales_flatten['sale_timestamp'].append(convert2dt_sales(sale['sale_timestamp']))\n",
    "\n",
    "asks_flatten = {'size': [], 'price': [], 'avail': [], 'timestamp': []}\n",
    "for ask in shoe_data['asks'] :\n",
    "    asks_flatten['size'].append(float(ask['size']))\n",
    "    asks_flatten['price'].append(int(ask['price'][1:].replace(',', '')))\n",
    "    asks_flatten['avail'].append(int(ask['avail']))\n",
    "    asks_flatten['timestamp'].append(convert2dt_timestamp(ask['timestamp']))\n",
    "    \n",
    "bids_flatten = {'size': [], 'price': [], 'avail': [], 'timestamp': []}\n",
    "for bid in shoe_data['bids'] :\n",
    "    bids_flatten['size'].append(float(bid['size']))\n",
    "    bids_flatten['price'].append(int(bid['price'][1:].replace(',', '')))\n",
    "    bids_flatten['avail'].append(int(ask['avail']))\n",
    "    bids_flatten['timestamp'].append(convert2dt_timestamp(bid['timestamp']))"
   ]
  },
  {
   "cell_type": "code",
   "execution_count": 67,
   "metadata": {
    "collapsed": false
   },
   "outputs": [],
   "source": [
    "sales_df = pd.DataFrame(sales_flatten)\n",
    "asks_df = pd.DataFrame(asks_flatten)\n",
    "bids_df = pd.DataFrame(bids_flatten)"
   ]
  },
  {
   "cell_type": "code",
   "execution_count": 68,
   "metadata": {
    "collapsed": false
   },
   "outputs": [
    {
     "name": "stdout",
     "output_type": "stream",
     "text": [
      "740\n"
     ]
    }
   ],
   "source": [
    "print(len(sales_df))"
   ]
  },
  {
   "cell_type": "code",
   "execution_count": 69,
   "metadata": {
    "collapsed": false
   },
   "outputs": [],
   "source": [
    "def get_window(sale_timestamp, timestamps) :\n",
    "    for i, tmp in enumerate(timestamps) :\n",
    "        if tmp > sale_timestamp :\n",
    "            if i == 0 :\n",
    "                return None\n",
    "            else :\n",
    "                return timestamps[i-1], timestamps[i]\n",
    "\n",
    "stockx_sale = 0\n",
    "timestamps = sorted(bids_df['timestamp'].unique().tolist())\n",
    "for ix in range(len(sales_df)) :\n",
    "    sale = sales_df.iloc[ix]\n",
    "    \n",
    "    for df in [asks_df, bids_df] :\n",
    "        window = get_window(sale['timestamp'], sorted(df['timestamp'].unique().tolist()))\n",
    "        if window is None :\n",
    "            continue \n",
    "        else :\n",
    "            before, after = window \n",
    "            exists_presale = df[(df['price'] == sale['price']) & (df['size'] == sale['size']) & \\\n",
    "                                   (df['timestamp'] == before)]\n",
    "            exists_postsale = df[(df['price'] == sale['price']) & (df['size'] == sale['size']) & \\\n",
    "                                   (df['timestamp'] == after)]\n",
    "            \n",
    "            if len(exists_presale) > 0 :\n",
    "                if len(exists_postsale) == 0 :\n",
    "                    stockx_sale = stockx_sale + 1\n",
    "                elif int(exists_presale['avail']) > int(exists_postsale['avail']) :\n",
    "                    stockx_sale = stockx_sale + 1"
   ]
  },
  {
   "cell_type": "code",
   "execution_count": 70,
   "metadata": {
    "collapsed": false
   },
   "outputs": [
    {
     "data": {
      "text/plain": [
       "0.06511627906976744"
      ]
     },
     "execution_count": 70,
     "metadata": {},
     "output_type": "execute_result"
    }
   ],
   "source": [
    "stockx_sale/215.0"
   ]
  },
  {
   "cell_type": "code",
   "execution_count": 49,
   "metadata": {
    "collapsed": false
   },
   "outputs": [],
   "source": [
    "sale = sales_df.iloc[500]\n",
    "before, after = get_window(sale['timestamp'], timestamps)\n",
    "k = bids_df[(bids_df['price'] == sale['price']) & (bids_df['size'] == sale['size']) & \\\n",
    "                                   (bids_df['timestamp'] == before)]"
   ]
  },
  {
   "cell_type": "code",
   "execution_count": 50,
   "metadata": {
    "collapsed": false
   },
   "outputs": [
    {
     "data": {
      "text/html": [
       "<div>\n",
       "<style>\n",
       "    .dataframe thead tr:only-child th {\n",
       "        text-align: right;\n",
       "    }\n",
       "\n",
       "    .dataframe thead th {\n",
       "        text-align: left;\n",
       "    }\n",
       "\n",
       "    .dataframe tbody tr th {\n",
       "        vertical-align: top;\n",
       "    }\n",
       "</style>\n",
       "<table border=\"1\" class=\"dataframe\">\n",
       "  <thead>\n",
       "    <tr style=\"text-align: right;\">\n",
       "      <th></th>\n",
       "      <th>avail</th>\n",
       "      <th>price</th>\n",
       "      <th>size</th>\n",
       "      <th>timestamp</th>\n",
       "    </tr>\n",
       "  </thead>\n",
       "  <tbody>\n",
       "  </tbody>\n",
       "</table>\n",
       "</div>"
      ],
      "text/plain": [
       "Empty DataFrame\n",
       "Columns: [avail, price, size, timestamp]\n",
       "Index: []"
      ]
     },
     "execution_count": 50,
     "metadata": {},
     "output_type": "execute_result"
    }
   ],
   "source": [
    "k"
   ]
  },
  {
   "cell_type": "code",
   "execution_count": 4,
   "metadata": {
    "collapsed": false
   },
   "outputs": [],
   "source": [
    "# drop sales in 37 minute gap since the bid/ask cannot be verified \n",
    "\n",
    "timestamps = bids_df['timestamp'].unique()\n",
    "diff = np.delete(timestamps, [0]) - np.delete(timestamps, [len(timestamps) - 1])\n",
    "diff = [int(td.total_seconds()/60) for td in diff]"
   ]
  },
  {
   "cell_type": "code",
   "execution_count": 5,
   "metadata": {
    "collapsed": true
   },
   "outputs": [],
   "source": [
    "ix = diff.index(52)\n",
    "\n",
    "drop = sales_df[(sales_df.index >= timestamps[25]) & (sales_df.index <= timestamps[26])].reset_index()\n",
    "sales_df = sales_df.reset_index()\n",
    "sales_df = sales_df[sales_df.apply(lambda x : x.values.tolist() not in drop.values.tolist(), axis=1)]"
   ]
  },
  {
   "cell_type": "code",
   "execution_count": 6,
   "metadata": {
    "collapsed": false
   },
   "outputs": [],
   "source": [
    "sales_df = sales_df.reset_index()\n",
    "def get_tmp_window(sale_tmp, timestamps) :\n",
    "    for i in range(len(timestamps)) :\n",
    "        if sale_tmp < timestamps[i] :\n",
    "            if i == 0 :\n",
    "                return None \n",
    "            else :\n",
    "                return timestamps[i-1], timestamps[i] \n",
    "\n",
    "stockx_sale = 0\n",
    "timestamps = bids_df['timestamp'].unique()\n",
    "for ix in range(len(sales_df)) :\n",
    "    sale = sales_df.iloc[ix]\n",
    "    window = get_tmp_window(sale['timestamp'], timestamps)\n",
    "    \n",
    "    if window is None :\n",
    "        continue \n",
    "    else :\n",
    "        presale_tmp, postsale_tmp = window\n",
    "        for df in [bids_df, asks_df] :\n",
    "            \n",
    "            exists_presale = ( (df['price'] == sale['price']) & (df['size'] == sale['size']) \\\n",
    "                                  & (df['timestamp'] == presale_tmp) ).any()\n",
    "            exists_postsale = ((df['price'] == sale['price']) & (df['size'] == sale['size']) \\\n",
    "                                  & (df['timestamp'] == postsale_tmp)).any()\n",
    "            \n",
    "            if exists_presale and (not exists_postsale) :\n",
    "                stockx_sale = stockx_sale + 1\n",
    "                break"
   ]
  },
  {
   "cell_type": "code",
   "execution_count": 7,
   "metadata": {
    "collapsed": false
   },
   "outputs": [
    {
     "data": {
      "text/plain": [
       "0"
      ]
     },
     "execution_count": 7,
     "metadata": {},
     "output_type": "execute_result"
    }
   ],
   "source": [
    "stockx_sale"
   ]
  },
  {
   "cell_type": "code",
   "execution_count": 109,
   "metadata": {
    "collapsed": true
   },
   "outputs": [],
   "source": [
    "with open('./data/volume_data/adidas-yeezy-boost-350-v2-cream-white.json') as f :\n",
    "    data = json.load(f)"
   ]
  },
  {
   "cell_type": "code",
   "execution_count": 112,
   "metadata": {
    "collapsed": false
   },
   "outputs": [
    {
     "name": "stdout",
     "output_type": "stream",
     "text": [
      "1024\n"
     ]
    }
   ],
   "source": [
    "all_sales = [sale for bar in data['history'] for sale in bar['sales']]\n",
    "print(len(all_sales))\n",
    "assert(len(sales_df) == len(all_sales))\n",
    "\n",
    "def exists(sale, bidask) :\n",
    "    for entry in bidask :\n",
    "        if entry['price'] == sale['price'] and entry['size'] == sale['size'] :\n",
    "            return True\n",
    "    return False \n",
    "\n",
    "bar_bidasks = {convert2dt_timestamp(bar['timestamp']):{'bids':bar['bids'], 'asks':bar['asks']} for bar in data['history']}\n",
    "\n",
    "stockx_sale = 0\n",
    "for sale in all_sales :\n",
    "    sale_dt = convert2dt_sales(sale['date'], sale['time'])\n",
    "    window = get_tmp_window(sale_dt, sorted(bar_bidasks.keys()))\n",
    "    \n",
    "    if window is None :\n",
    "        continue \n",
    "    else :\n",
    "        presale_tmp, postsale_tmp = window \n",
    "        bid_exists_presale = exists(sale, bar_bidasks[presale_tmp]['bids'])\n",
    "        bid_exists_postsale = exists(sale, bar_bidasks[postsale_tmp]['bids'])\n",
    "        \n",
    "        if bid_exists_presale and (not bid_exists_postsale) :\n",
    "            stockx_sale = stockx_sale + 1\n",
    "            continue \n",
    "\n",
    "        ask_exists_presale = exists(sale, bar_bidasks[presale_tmp]['asks'])\n",
    "        ask_exists_postsale = exists(sale, bar_bidasks[postsale_tmp]['asks'])\n",
    "        \n",
    "        if ask_exists_presale and (not ask_exists_postsale) :\n",
    "            stockx_sale = stockx_sale + 1"
   ]
  }
 ],
 "metadata": {
  "anaconda-cloud": {},
  "kernelspec": {
   "display_name": "Python 2",
   "language": "python",
   "name": "python2"
  },
  "language_info": {
   "codemirror_mode": {
    "name": "ipython",
    "version": 2
   },
   "file_extension": ".py",
   "mimetype": "text/x-python",
   "name": "python",
   "nbconvert_exporter": "python",
   "pygments_lexer": "ipython2",
   "version": "2.7.12"
  }
 },
 "nbformat": 4,
 "nbformat_minor": 0
}
